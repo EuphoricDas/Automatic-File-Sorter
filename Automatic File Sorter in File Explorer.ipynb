{
 "cells": [
  {
   "cell_type": "markdown",
   "id": "8eabd506",
   "metadata": {},
   "source": [
    "# Automatic File Sorter in File Explorer"
   ]
  },
  {
   "cell_type": "code",
   "execution_count": 19,
   "id": "59dd8692",
   "metadata": {},
   "outputs": [],
   "source": [
    "import os, shutil"
   ]
  },
  {
   "cell_type": "code",
   "execution_count": 20,
   "id": "b2bf69a1",
   "metadata": {},
   "outputs": [],
   "source": [
    "path = r\"C:/Users/bindu/Documents/FileSorter/\""
   ]
  },
  {
   "cell_type": "code",
   "execution_count": 21,
   "id": "6fa94568",
   "metadata": {},
   "outputs": [],
   "source": [
    "file_name = os.listdir(path)"
   ]
  },
  {
   "cell_type": "code",
   "execution_count": 22,
   "id": "6601255e",
   "metadata": {},
   "outputs": [],
   "source": [
    "folder_names = ['r studio files','csv files','ppt files','pdf files','doc files','image files']\n",
    "\n",
    "for loop in range(0,6):\n",
    "    if not os.path.exists(path + folder_names[loop]):\n",
    "        os.makedirs(path + folder_names[loop])\n",
    "\n",
    "for file in file_name:\n",
    "    if \".csv\" in file and not os.path.exists(path + \"csv files/\"+ file):\n",
    "        shutil.move(path + file, path + \"csv files/\" +file)\n",
    "    elif \".png\" in file and not os.path.exists(path + \"image files/\"+ file):\n",
    "        shutil.move(path + file, path + \"image files/\" +file)\n",
    "    elif \".docx\" in file and not os.path.exists(path + \"doc files/\"+ file):\n",
    "        shutil.move(path + file, path + \"doc files/\" +file)\n",
    "    elif \".pptx\" in file and not os.path.exists(path + \"ppt files/\"+ file):\n",
    "        shutil.move(path + file, path + \"ppt files/\" +file)\n",
    "    elif \".RData\" in file and not os.path.exists(path + \"r studio files/\"+ file):\n",
    "        shutil.move(path + file, path + \"r studio files/\" +file)\n",
    "    elif \".pdf\" in file and not os.path.exists(path + \"pdf files/\"+ file):\n",
    "        shutil.move(path + file, path + \"pdf files/\" +file)\n"
   ]
  },
  {
   "cell_type": "code",
   "execution_count": 18,
   "id": "9fac7ab8",
   "metadata": {},
   "outputs": [],
   "source": []
  },
  {
   "cell_type": "code",
   "execution_count": null,
   "id": "48cef5db",
   "metadata": {},
   "outputs": [],
   "source": []
  }
 ],
 "metadata": {
  "kernelspec": {
   "display_name": "Python 3 (ipykernel)",
   "language": "python",
   "name": "python3"
  },
  "language_info": {
   "codemirror_mode": {
    "name": "ipython",
    "version": 3
   },
   "file_extension": ".py",
   "mimetype": "text/x-python",
   "name": "python",
   "nbconvert_exporter": "python",
   "pygments_lexer": "ipython3",
   "version": "3.9.12"
  }
 },
 "nbformat": 4,
 "nbformat_minor": 5
}
